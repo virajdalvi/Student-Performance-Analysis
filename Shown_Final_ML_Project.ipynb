{
  "nbformat": 4,
  "nbformat_minor": 0,
  "metadata": {
    "colab": {
      "name": "Shown Final ML Project.ipynb",
      "provenance": [],
      "collapsed_sections": []
    },
    "kernelspec": {
      "display_name": "Python 3",
      "language": "python",
      "name": "python3"
    },
    "language_info": {
      "codemirror_mode": {
        "name": "ipython",
        "version": 3
      },
      "file_extension": ".py",
      "mimetype": "text/x-python",
      "name": "python",
      "nbconvert_exporter": "python",
      "pygments_lexer": "ipython3",
      "version": "3.8.5"
    }
  },
  "cells": [
    {
      "cell_type": "markdown",
      "metadata": {
        "id": "Y8YhVcvxuCBM"
      },
      "source": [
        "<h2 style=\"color:green\" align=\"center\"> Student Performance Analysis and Student Recommendation System</h2>\n"
      ]
    },
    {
      "cell_type": "code",
      "metadata": {
        "colab": {
          "base_uri": "https://localhost:8080/"
        },
        "id": "yVhawETu7Kpd",
        "outputId": "5bc18e8b-44e2-4344-e350-d66380658d79"
      },
      "source": [
        "pip install dabl"
      ],
      "execution_count": 1,
      "outputs": [
        {
          "output_type": "stream",
          "name": "stdout",
          "text": [
            "Collecting dabl\n",
            "  Downloading dabl-0.2.2-py3-none-any.whl (558 kB)\n",
            "\u001b[?25l\r\u001b[K     |▋                               | 10 kB 23.6 MB/s eta 0:00:01\r\u001b[K     |█▏                              | 20 kB 24.5 MB/s eta 0:00:01\r\u001b[K     |█▊                              | 30 kB 11.2 MB/s eta 0:00:01\r\u001b[K     |██▍                             | 40 kB 8.9 MB/s eta 0:00:01\r\u001b[K     |███                             | 51 kB 7.1 MB/s eta 0:00:01\r\u001b[K     |███▌                            | 61 kB 7.9 MB/s eta 0:00:01\r\u001b[K     |████                            | 71 kB 6.5 MB/s eta 0:00:01\r\u001b[K     |████▊                           | 81 kB 7.3 MB/s eta 0:00:01\r\u001b[K     |█████▎                          | 92 kB 6.9 MB/s eta 0:00:01\r\u001b[K     |█████▉                          | 102 kB 7.3 MB/s eta 0:00:01\r\u001b[K     |██████▌                         | 112 kB 7.3 MB/s eta 0:00:01\r\u001b[K     |███████                         | 122 kB 7.3 MB/s eta 0:00:01\r\u001b[K     |███████▋                        | 133 kB 7.3 MB/s eta 0:00:01\r\u001b[K     |████████▏                       | 143 kB 7.3 MB/s eta 0:00:01\r\u001b[K     |████████▉                       | 153 kB 7.3 MB/s eta 0:00:01\r\u001b[K     |█████████▍                      | 163 kB 7.3 MB/s eta 0:00:01\r\u001b[K     |██████████                      | 174 kB 7.3 MB/s eta 0:00:01\r\u001b[K     |██████████▌                     | 184 kB 7.3 MB/s eta 0:00:01\r\u001b[K     |███████████▏                    | 194 kB 7.3 MB/s eta 0:00:01\r\u001b[K     |███████████▊                    | 204 kB 7.3 MB/s eta 0:00:01\r\u001b[K     |████████████▎                   | 215 kB 7.3 MB/s eta 0:00:01\r\u001b[K     |█████████████                   | 225 kB 7.3 MB/s eta 0:00:01\r\u001b[K     |█████████████▌                  | 235 kB 7.3 MB/s eta 0:00:01\r\u001b[K     |██████████████                  | 245 kB 7.3 MB/s eta 0:00:01\r\u001b[K     |██████████████▋                 | 256 kB 7.3 MB/s eta 0:00:01\r\u001b[K     |███████████████▎                | 266 kB 7.3 MB/s eta 0:00:01\r\u001b[K     |███████████████▉                | 276 kB 7.3 MB/s eta 0:00:01\r\u001b[K     |████████████████▍               | 286 kB 7.3 MB/s eta 0:00:01\r\u001b[K     |█████████████████               | 296 kB 7.3 MB/s eta 0:00:01\r\u001b[K     |█████████████████▋              | 307 kB 7.3 MB/s eta 0:00:01\r\u001b[K     |██████████████████▏             | 317 kB 7.3 MB/s eta 0:00:01\r\u001b[K     |██████████████████▊             | 327 kB 7.3 MB/s eta 0:00:01\r\u001b[K     |███████████████████▍            | 337 kB 7.3 MB/s eta 0:00:01\r\u001b[K     |████████████████████            | 348 kB 7.3 MB/s eta 0:00:01\r\u001b[K     |████████████████████▌           | 358 kB 7.3 MB/s eta 0:00:01\r\u001b[K     |█████████████████████           | 368 kB 7.3 MB/s eta 0:00:01\r\u001b[K     |█████████████████████▊          | 378 kB 7.3 MB/s eta 0:00:01\r\u001b[K     |██████████████████████▎         | 389 kB 7.3 MB/s eta 0:00:01\r\u001b[K     |██████████████████████▉         | 399 kB 7.3 MB/s eta 0:00:01\r\u001b[K     |███████████████████████▌        | 409 kB 7.3 MB/s eta 0:00:01\r\u001b[K     |████████████████████████        | 419 kB 7.3 MB/s eta 0:00:01\r\u001b[K     |████████████████████████▋       | 430 kB 7.3 MB/s eta 0:00:01\r\u001b[K     |█████████████████████████▏      | 440 kB 7.3 MB/s eta 0:00:01\r\u001b[K     |█████████████████████████▉      | 450 kB 7.3 MB/s eta 0:00:01\r\u001b[K     |██████████████████████████▍     | 460 kB 7.3 MB/s eta 0:00:01\r\u001b[K     |███████████████████████████     | 471 kB 7.3 MB/s eta 0:00:01\r\u001b[K     |███████████████████████████▌    | 481 kB 7.3 MB/s eta 0:00:01\r\u001b[K     |████████████████████████████▏   | 491 kB 7.3 MB/s eta 0:00:01\r\u001b[K     |████████████████████████████▊   | 501 kB 7.3 MB/s eta 0:00:01\r\u001b[K     |█████████████████████████████▎  | 512 kB 7.3 MB/s eta 0:00:01\r\u001b[K     |██████████████████████████████  | 522 kB 7.3 MB/s eta 0:00:01\r\u001b[K     |██████████████████████████████▌ | 532 kB 7.3 MB/s eta 0:00:01\r\u001b[K     |███████████████████████████████ | 542 kB 7.3 MB/s eta 0:00:01\r\u001b[K     |███████████████████████████████▋| 552 kB 7.3 MB/s eta 0:00:01\r\u001b[K     |████████████████████████████████| 558 kB 7.3 MB/s \n",
            "\u001b[?25hRequirement already satisfied: pandas in /usr/local/lib/python3.7/dist-packages (from dabl) (1.1.5)\n",
            "Requirement already satisfied: scipy in /usr/local/lib/python3.7/dist-packages (from dabl) (1.4.1)\n",
            "Collecting scikit-learn>=0.24.0\n",
            "  Downloading scikit_learn-0.24.2-cp37-cp37m-manylinux2010_x86_64.whl (22.3 MB)\n",
            "\u001b[K     |████████████████████████████████| 22.3 MB 1.4 MB/s \n",
            "\u001b[?25hRequirement already satisfied: numpy in /usr/local/lib/python3.7/dist-packages (from dabl) (1.19.5)\n",
            "Requirement already satisfied: matplotlib in /usr/local/lib/python3.7/dist-packages (from dabl) (3.2.2)\n",
            "Requirement already satisfied: seaborn in /usr/local/lib/python3.7/dist-packages (from dabl) (0.11.1)\n",
            "Collecting threadpoolctl>=2.0.0\n",
            "  Downloading threadpoolctl-2.2.0-py3-none-any.whl (12 kB)\n",
            "Requirement already satisfied: joblib>=0.11 in /usr/local/lib/python3.7/dist-packages (from scikit-learn>=0.24.0->dabl) (1.0.1)\n",
            "Requirement already satisfied: cycler>=0.10 in /usr/local/lib/python3.7/dist-packages (from matplotlib->dabl) (0.10.0)\n",
            "Requirement already satisfied: kiwisolver>=1.0.1 in /usr/local/lib/python3.7/dist-packages (from matplotlib->dabl) (1.3.1)\n",
            "Requirement already satisfied: python-dateutil>=2.1 in /usr/local/lib/python3.7/dist-packages (from matplotlib->dabl) (2.8.2)\n",
            "Requirement already satisfied: pyparsing!=2.0.4,!=2.1.2,!=2.1.6,>=2.0.1 in /usr/local/lib/python3.7/dist-packages (from matplotlib->dabl) (2.4.7)\n",
            "Requirement already satisfied: six in /usr/local/lib/python3.7/dist-packages (from cycler>=0.10->matplotlib->dabl) (1.15.0)\n",
            "Requirement already satisfied: pytz>=2017.2 in /usr/local/lib/python3.7/dist-packages (from pandas->dabl) (2018.9)\n",
            "Installing collected packages: threadpoolctl, scikit-learn, dabl\n",
            "  Attempting uninstall: scikit-learn\n",
            "    Found existing installation: scikit-learn 0.22.2.post1\n",
            "    Uninstalling scikit-learn-0.22.2.post1:\n",
            "      Successfully uninstalled scikit-learn-0.22.2.post1\n",
            "Successfully installed dabl-0.2.2 scikit-learn-0.24.2 threadpoolctl-2.2.0\n"
          ]
        }
      ]
    },
    {
      "cell_type": "code",
      "metadata": {
        "id": "GTE9f0iauCBS"
      },
      "source": [
        "import pandas as pd\n",
        "import numpy as np\n",
        "import joblib\n",
        "from sklearn import linear_model\n",
        "from sklearn.model_selection import train_test_split\n",
        "from sklearn import metrics\n",
        "import matplotlib.pyplot as plt\n",
        "import seaborn as sns\n",
        "import plotly.express as px\n",
        "import dabl"
      ],
      "execution_count": 2,
      "outputs": []
    },
    {
      "cell_type": "code",
      "metadata": {
        "colab": {
          "base_uri": "https://localhost:8080/",
          "height": 419
        },
        "id": "FVWh10kruCBS",
        "scrolled": true,
        "outputId": "7177b045-ac89-433c-fdce-efd0b9a64384"
      },
      "source": [
        "from google.colab import drive\n",
        "\n",
        "df = pd.read_csv(\"/content/sample_data/new_student_marks.csv\")\n",
        "new_df=df\n",
        "new_df"
      ],
      "execution_count": 5,
      "outputs": [
        {
          "output_type": "execute_result",
          "data": {
            "text/html": [
              "<div>\n",
              "<style scoped>\n",
              "    .dataframe tbody tr th:only-of-type {\n",
              "        vertical-align: middle;\n",
              "    }\n",
              "\n",
              "    .dataframe tbody tr th {\n",
              "        vertical-align: top;\n",
              "    }\n",
              "\n",
              "    .dataframe thead th {\n",
              "        text-align: right;\n",
              "    }\n",
              "</style>\n",
              "<table border=\"1\" class=\"dataframe\">\n",
              "  <thead>\n",
              "    <tr style=\"text-align: right;\">\n",
              "      <th></th>\n",
              "      <th>Id</th>\n",
              "      <th>big_5_test_score</th>\n",
              "      <th>aptitude_score</th>\n",
              "      <th>final_year_project_score</th>\n",
              "      <th>technical_score</th>\n",
              "      <th>Primary_Language</th>\n",
              "      <th>EQ</th>\n",
              "    </tr>\n",
              "  </thead>\n",
              "  <tbody>\n",
              "    <tr>\n",
              "      <th>0</th>\n",
              "      <td>1</td>\n",
              "      <td>14.96</td>\n",
              "      <td>41.76</td>\n",
              "      <td>1024.07</td>\n",
              "      <td>73.17</td>\n",
              "      <td>PYTHON</td>\n",
              "      <td>463.26</td>\n",
              "    </tr>\n",
              "    <tr>\n",
              "      <th>1</th>\n",
              "      <td>2</td>\n",
              "      <td>25.18</td>\n",
              "      <td>62.96</td>\n",
              "      <td>1020.04</td>\n",
              "      <td>59.08</td>\n",
              "      <td>JAVASCRIPT</td>\n",
              "      <td>444.37</td>\n",
              "    </tr>\n",
              "    <tr>\n",
              "      <th>2</th>\n",
              "      <td>3</td>\n",
              "      <td>5.11</td>\n",
              "      <td>39.40</td>\n",
              "      <td>1012.16</td>\n",
              "      <td>92.14</td>\n",
              "      <td>C++</td>\n",
              "      <td>488.56</td>\n",
              "    </tr>\n",
              "    <tr>\n",
              "      <th>3</th>\n",
              "      <td>4</td>\n",
              "      <td>20.86</td>\n",
              "      <td>57.32</td>\n",
              "      <td>1010.24</td>\n",
              "      <td>76.64</td>\n",
              "      <td>JAVASCRIPT</td>\n",
              "      <td>446.48</td>\n",
              "    </tr>\n",
              "    <tr>\n",
              "      <th>4</th>\n",
              "      <td>5</td>\n",
              "      <td>10.82</td>\n",
              "      <td>37.50</td>\n",
              "      <td>1009.23</td>\n",
              "      <td>96.62</td>\n",
              "      <td>C++</td>\n",
              "      <td>473.90</td>\n",
              "    </tr>\n",
              "    <tr>\n",
              "      <th>...</th>\n",
              "      <td>...</td>\n",
              "      <td>...</td>\n",
              "      <td>...</td>\n",
              "      <td>...</td>\n",
              "      <td>...</td>\n",
              "      <td>...</td>\n",
              "      <td>...</td>\n",
              "    </tr>\n",
              "    <tr>\n",
              "      <th>494</th>\n",
              "      <td>495</td>\n",
              "      <td>27.49</td>\n",
              "      <td>63.76</td>\n",
              "      <td>1010.09</td>\n",
              "      <td>62.80</td>\n",
              "      <td>JAVASCRIPT</td>\n",
              "      <td>436.73</td>\n",
              "    </tr>\n",
              "    <tr>\n",
              "      <th>495</th>\n",
              "      <td>496</td>\n",
              "      <td>23.10</td>\n",
              "      <td>70.79</td>\n",
              "      <td>1006.53</td>\n",
              "      <td>90.81</td>\n",
              "      <td>C++</td>\n",
              "      <td>434.58</td>\n",
              "    </tr>\n",
              "    <tr>\n",
              "      <th>496</th>\n",
              "      <td>497</td>\n",
              "      <td>11.22</td>\n",
              "      <td>43.13</td>\n",
              "      <td>1017.24</td>\n",
              "      <td>80.90</td>\n",
              "      <td>PHP</td>\n",
              "      <td>473.93</td>\n",
              "    </tr>\n",
              "    <tr>\n",
              "      <th>497</th>\n",
              "      <td>498</td>\n",
              "      <td>31.97</td>\n",
              "      <td>79.74</td>\n",
              "      <td>1007.03</td>\n",
              "      <td>55.84</td>\n",
              "      <td>JAVASCRIPT</td>\n",
              "      <td>435.99</td>\n",
              "    </tr>\n",
              "    <tr>\n",
              "      <th>498</th>\n",
              "      <td>499</td>\n",
              "      <td>13.32</td>\n",
              "      <td>43.22</td>\n",
              "      <td>1009.45</td>\n",
              "      <td>75.30</td>\n",
              "      <td>C</td>\n",
              "      <td>466.83</td>\n",
              "    </tr>\n",
              "  </tbody>\n",
              "</table>\n",
              "<p>499 rows × 7 columns</p>\n",
              "</div>"
            ],
            "text/plain": [
              "      Id  big_5_test_score  ...  Primary_Language      EQ\n",
              "0      1             14.96  ...            PYTHON  463.26\n",
              "1      2             25.18  ...        JAVASCRIPT  444.37\n",
              "2      3              5.11  ...               C++  488.56\n",
              "3      4             20.86  ...        JAVASCRIPT  446.48\n",
              "4      5             10.82  ...               C++  473.90\n",
              "..   ...               ...  ...               ...     ...\n",
              "494  495             27.49  ...        JAVASCRIPT  436.73\n",
              "495  496             23.10  ...               C++  434.58\n",
              "496  497             11.22  ...               PHP  473.93\n",
              "497  498             31.97  ...        JAVASCRIPT  435.99\n",
              "498  499             13.32  ...                 C  466.83\n",
              "\n",
              "[499 rows x 7 columns]"
            ]
          },
          "metadata": {},
          "execution_count": 5
        }
      ]
    },
    {
      "cell_type": "code",
      "metadata": {
        "colab": {
          "base_uri": "https://localhost:8080/",
          "height": 419
        },
        "id": "9eRFk0O67Kph",
        "outputId": "458211aa-1bb4-4239-dc97-1d95074fcaee"
      },
      "source": [
        "d_primary=new_df.Primary_Language\n",
        "new_df=new_df.drop('Id',axis=1)\n",
        "new_df=new_df.drop('Primary_Language',axis=1) \n",
        "new_df\n"
      ],
      "execution_count": 6,
      "outputs": [
        {
          "output_type": "execute_result",
          "data": {
            "text/html": [
              "<div>\n",
              "<style scoped>\n",
              "    .dataframe tbody tr th:only-of-type {\n",
              "        vertical-align: middle;\n",
              "    }\n",
              "\n",
              "    .dataframe tbody tr th {\n",
              "        vertical-align: top;\n",
              "    }\n",
              "\n",
              "    .dataframe thead th {\n",
              "        text-align: right;\n",
              "    }\n",
              "</style>\n",
              "<table border=\"1\" class=\"dataframe\">\n",
              "  <thead>\n",
              "    <tr style=\"text-align: right;\">\n",
              "      <th></th>\n",
              "      <th>big_5_test_score</th>\n",
              "      <th>aptitude_score</th>\n",
              "      <th>final_year_project_score</th>\n",
              "      <th>technical_score</th>\n",
              "      <th>EQ</th>\n",
              "    </tr>\n",
              "  </thead>\n",
              "  <tbody>\n",
              "    <tr>\n",
              "      <th>0</th>\n",
              "      <td>14.96</td>\n",
              "      <td>41.76</td>\n",
              "      <td>1024.07</td>\n",
              "      <td>73.17</td>\n",
              "      <td>463.26</td>\n",
              "    </tr>\n",
              "    <tr>\n",
              "      <th>1</th>\n",
              "      <td>25.18</td>\n",
              "      <td>62.96</td>\n",
              "      <td>1020.04</td>\n",
              "      <td>59.08</td>\n",
              "      <td>444.37</td>\n",
              "    </tr>\n",
              "    <tr>\n",
              "      <th>2</th>\n",
              "      <td>5.11</td>\n",
              "      <td>39.40</td>\n",
              "      <td>1012.16</td>\n",
              "      <td>92.14</td>\n",
              "      <td>488.56</td>\n",
              "    </tr>\n",
              "    <tr>\n",
              "      <th>3</th>\n",
              "      <td>20.86</td>\n",
              "      <td>57.32</td>\n",
              "      <td>1010.24</td>\n",
              "      <td>76.64</td>\n",
              "      <td>446.48</td>\n",
              "    </tr>\n",
              "    <tr>\n",
              "      <th>4</th>\n",
              "      <td>10.82</td>\n",
              "      <td>37.50</td>\n",
              "      <td>1009.23</td>\n",
              "      <td>96.62</td>\n",
              "      <td>473.90</td>\n",
              "    </tr>\n",
              "    <tr>\n",
              "      <th>...</th>\n",
              "      <td>...</td>\n",
              "      <td>...</td>\n",
              "      <td>...</td>\n",
              "      <td>...</td>\n",
              "      <td>...</td>\n",
              "    </tr>\n",
              "    <tr>\n",
              "      <th>494</th>\n",
              "      <td>27.49</td>\n",
              "      <td>63.76</td>\n",
              "      <td>1010.09</td>\n",
              "      <td>62.80</td>\n",
              "      <td>436.73</td>\n",
              "    </tr>\n",
              "    <tr>\n",
              "      <th>495</th>\n",
              "      <td>23.10</td>\n",
              "      <td>70.79</td>\n",
              "      <td>1006.53</td>\n",
              "      <td>90.81</td>\n",
              "      <td>434.58</td>\n",
              "    </tr>\n",
              "    <tr>\n",
              "      <th>496</th>\n",
              "      <td>11.22</td>\n",
              "      <td>43.13</td>\n",
              "      <td>1017.24</td>\n",
              "      <td>80.90</td>\n",
              "      <td>473.93</td>\n",
              "    </tr>\n",
              "    <tr>\n",
              "      <th>497</th>\n",
              "      <td>31.97</td>\n",
              "      <td>79.74</td>\n",
              "      <td>1007.03</td>\n",
              "      <td>55.84</td>\n",
              "      <td>435.99</td>\n",
              "    </tr>\n",
              "    <tr>\n",
              "      <th>498</th>\n",
              "      <td>13.32</td>\n",
              "      <td>43.22</td>\n",
              "      <td>1009.45</td>\n",
              "      <td>75.30</td>\n",
              "      <td>466.83</td>\n",
              "    </tr>\n",
              "  </tbody>\n",
              "</table>\n",
              "<p>499 rows × 5 columns</p>\n",
              "</div>"
            ],
            "text/plain": [
              "     big_5_test_score  aptitude_score  ...  technical_score      EQ\n",
              "0               14.96           41.76  ...            73.17  463.26\n",
              "1               25.18           62.96  ...            59.08  444.37\n",
              "2                5.11           39.40  ...            92.14  488.56\n",
              "3               20.86           57.32  ...            76.64  446.48\n",
              "4               10.82           37.50  ...            96.62  473.90\n",
              "..                ...             ...  ...              ...     ...\n",
              "494             27.49           63.76  ...            62.80  436.73\n",
              "495             23.10           70.79  ...            90.81  434.58\n",
              "496             11.22           43.13  ...            80.90  473.93\n",
              "497             31.97           79.74  ...            55.84  435.99\n",
              "498             13.32           43.22  ...            75.30  466.83\n",
              "\n",
              "[499 rows x 5 columns]"
            ]
          },
          "metadata": {},
          "execution_count": 6
        }
      ]
    },
    {
      "cell_type": "code",
      "metadata": {
        "id": "2lgZ2sBa7Kpi",
        "colab": {
          "base_uri": "https://localhost:8080/"
        },
        "outputId": "f1ff62f9-a3ef-4699-9981-3dec28f5408f"
      },
      "source": [
        "d_primary"
      ],
      "execution_count": 7,
      "outputs": [
        {
          "output_type": "execute_result",
          "data": {
            "text/plain": [
              "0          PYTHON\n",
              "1      JAVASCRIPT\n",
              "2             C++\n",
              "3      JAVASCRIPT\n",
              "4             C++\n",
              "          ...    \n",
              "494    JAVASCRIPT\n",
              "495           C++\n",
              "496           PHP\n",
              "497    JAVASCRIPT\n",
              "498             C\n",
              "Name: Primary_Language, Length: 499, dtype: object"
            ]
          },
          "metadata": {},
          "execution_count": 7
        }
      ]
    },
    {
      "cell_type": "code",
      "metadata": {
        "id": "D50_Z_le7Kpj"
      },
      "source": [
        "x=new_df.drop('EQ',axis=1)\n",
        "y=new_df['EQ']\n",
        "x_train, x_test, y_train, y_test = train_test_split(x, y, test_size=0.3, random_state=1)"
      ],
      "execution_count": 8,
      "outputs": []
    },
    {
      "cell_type": "code",
      "metadata": {
        "id": "v_sLWfBFuCBU",
        "scrolled": false,
        "colab": {
          "base_uri": "https://localhost:8080/"
        },
        "outputId": "edaa6677-5740-45f0-d5ea-c0b3ee66eef9"
      },
      "source": [
        "reg = linear_model.LinearRegression()\n",
        "reg.fit(x_train,y_train)"
      ],
      "execution_count": 9,
      "outputs": [
        {
          "output_type": "execute_result",
          "data": {
            "text/plain": [
              "LinearRegression()"
            ]
          },
          "metadata": {},
          "execution_count": 9
        }
      ]
    },
    {
      "cell_type": "code",
      "metadata": {
        "id": "8hyDcm9PuCBV",
        "colab": {
          "base_uri": "https://localhost:8080/"
        },
        "outputId": "53751b69-6ce6-44bf-9973-34ebafe2937f"
      },
      "source": [
        "reg.coef_"
      ],
      "execution_count": 10,
      "outputs": [
        {
          "output_type": "execute_result",
          "data": {
            "text/plain": [
              "array([-2.06979237, -0.19410063,  0.05660644, -0.1733697 ])"
            ]
          },
          "metadata": {},
          "execution_count": 10
        }
      ]
    },
    {
      "cell_type": "code",
      "metadata": {
        "id": "2lU0Jr8cuCBV",
        "scrolled": true,
        "colab": {
          "base_uri": "https://localhost:8080/"
        },
        "outputId": "3dbfcc8c-fbf1-4626-8491-3d880eb370d8"
      },
      "source": [
        "reg.intercept_"
      ],
      "execution_count": 11,
      "outputs": [
        {
          "output_type": "execute_result",
          "data": {
            "text/plain": [
              "461.0388777403773"
            ]
          },
          "metadata": {},
          "execution_count": 11
        }
      ]
    },
    {
      "cell_type": "code",
      "metadata": {
        "id": "Ch8WUh6KuCBW"
      },
      "source": [
        "y_pred = reg.predict(x_test)"
      ],
      "execution_count": 12,
      "outputs": []
    },
    {
      "cell_type": "code",
      "metadata": {
        "id": "aUSmXR6h7Kpl",
        "colab": {
          "base_uri": "https://localhost:8080/"
        },
        "outputId": "159f8a68-9924-4336-ba43-7f3292ec3317"
      },
      "source": [
        "y_pred"
      ],
      "execution_count": 13,
      "outputs": [
        {
          "output_type": "execute_result",
          "data": {
            "text/plain": [
              "array([475.00100935, 438.06509354, 478.63628868, 474.28245799,\n",
              "       463.73080077, 444.59471559, 429.75308435, 470.71126531,\n",
              "       451.99675763, 442.32526798, 430.10371348, 439.7703913 ,\n",
              "       446.93628058, 467.26136971, 471.76949735, 433.61968952,\n",
              "       455.32724859, 439.68325677, 441.88290991, 467.39742333,\n",
              "       446.62997785, 452.75056988, 455.43774644, 463.79090911,\n",
              "       475.31692473, 444.23584508, 447.22822253, 441.69140708,\n",
              "       427.82881857, 469.66796269, 449.73091195, 434.07041818,\n",
              "       459.28138446, 436.87971267, 441.64906733, 460.99115113,\n",
              "       471.74288399, 442.31719364, 427.02056054, 432.43692459,\n",
              "       450.22685064, 438.29282212, 480.235722  , 441.57780738,\n",
              "       444.94036194, 454.62691493, 438.17204453, 442.03896218,\n",
              "       431.64632005, 433.2044914 , 449.73976978, 442.23788653,\n",
              "       446.41973093, 465.07314533, 473.53427757, 452.9806683 ,\n",
              "       469.05949415, 474.53446604, 443.35378792, 446.69358574,\n",
              "       451.41454213, 479.25996209, 470.54687238, 476.07877224,\n",
              "       444.45491086, 455.58680703, 451.27639965, 431.76472491,\n",
              "       463.29142095, 442.40408454, 468.28854275, 439.23946194,\n",
              "       435.26588771, 453.12759312, 476.0344548 , 444.40784648,\n",
              "       469.11177225, 430.5158082 , 465.35759908, 441.32387733,\n",
              "       463.57618772, 471.98438118, 470.7689316 , 431.33603911,\n",
              "       439.73023474, 471.5242335 , 474.87557294, 464.32918275,\n",
              "       435.10432047, 431.6374874 , 466.63721988, 461.48641004,\n",
              "       463.97293563, 487.76868332, 456.54660141, 456.90241637,\n",
              "       444.59195291, 468.98563119, 477.59216908, 468.2127985 ,\n",
              "       465.75838872, 466.87171973, 441.8469935 , 473.68034466,\n",
              "       447.214107  , 461.17252846, 440.97571356, 433.01764263,\n",
              "       446.6728183 , 463.17941223, 426.45507123, 483.44720338,\n",
              "       432.23801338, 438.05440745, 453.71509625, 431.64662914,\n",
              "       467.83028318, 449.06955816, 441.86139652, 445.65869571,\n",
              "       468.25541729, 436.50255171, 477.87124079, 472.31719922,\n",
              "       451.96109111, 440.7186643 , 472.47330969, 440.226348  ,\n",
              "       464.72984139, 427.43875778, 480.49934884, 476.65493643,\n",
              "       470.54388251, 452.73568971, 479.27684385, 434.43304282,\n",
              "       468.90736633, 430.96472446, 462.83831929, 432.1939119 ,\n",
              "       458.73492898, 452.71200891, 436.08229357, 463.25756621,\n",
              "       451.6015774 , 455.23148702, 450.58828109, 439.95699572,\n",
              "       441.50999351, 443.06201198])"
            ]
          },
          "metadata": {},
          "execution_count": 13
        }
      ]
    },
    {
      "cell_type": "code",
      "metadata": {
        "id": "EhOqRkYo7Kpm",
        "colab": {
          "base_uri": "https://localhost:8080/"
        },
        "outputId": "90e72277-55a9-4e47-f88e-ae674e23e6e9"
      },
      "source": [
        "reg.predict([[14.96, 41.76, 1024.07, 73.17]])"
      ],
      "execution_count": 14,
      "outputs": [
        {
          "output_type": "execute_result",
          "data": {
            "text/plain": [
              "array([467.25263389])"
            ]
          },
          "metadata": {},
          "execution_count": 14
        }
      ]
    },
    {
      "cell_type": "markdown",
      "metadata": {
        "id": "YDKz1G8V7Kpm"
      },
      "source": [
        "#ACCURACY"
      ]
    },
    {
      "cell_type": "code",
      "metadata": {
        "id": "-iKAZFyE7Kpn",
        "colab": {
          "base_uri": "https://localhost:8080/"
        },
        "outputId": "13496573-223a-421d-f5dc-7e8c6d6dcad4"
      },
      "source": [
        "from sklearn.metrics import r2_score\n",
        "r2 = r2_score(y_test,y_pred)\n",
        "r2"
      ],
      "execution_count": 15,
      "outputs": [
        {
          "output_type": "execute_result",
          "data": {
            "text/plain": [
              "0.9140852396320389"
            ]
          },
          "metadata": {},
          "execution_count": 15
        }
      ]
    },
    {
      "cell_type": "markdown",
      "metadata": {
        "id": "3e73vZsK7Kpo"
      },
      "source": [
        "#FREQUENCY"
      ]
    },
    {
      "cell_type": "code",
      "metadata": {
        "id": "S1r4h_9e7Kpo",
        "colab": {
          "base_uri": "https://localhost:8080/"
        },
        "outputId": "012182ae-0d5a-4462-b620-b430836e015a"
      },
      "source": [
        "d_primary"
      ],
      "execution_count": 16,
      "outputs": [
        {
          "output_type": "execute_result",
          "data": {
            "text/plain": [
              "0          PYTHON\n",
              "1      JAVASCRIPT\n",
              "2             C++\n",
              "3      JAVASCRIPT\n",
              "4             C++\n",
              "          ...    \n",
              "494    JAVASCRIPT\n",
              "495           C++\n",
              "496           PHP\n",
              "497    JAVASCRIPT\n",
              "498             C\n",
              "Name: Primary_Language, Length: 499, dtype: object"
            ]
          },
          "metadata": {},
          "execution_count": 16
        }
      ]
    },
    {
      "cell_type": "code",
      "metadata": {
        "id": "ks9MvREp7Kpr",
        "colab": {
          "base_uri": "https://localhost:8080/"
        },
        "outputId": "1cc1e999-1651-482c-e242-50f1d293689b"
      },
      "source": [
        "s=list(d_primary)\n",
        "k=[]\n",
        "k = [x.replace(' ', '') for x in s]\n",
        "print(k)"
      ],
      "execution_count": 17,
      "outputs": [
        {
          "output_type": "stream",
          "name": "stdout",
          "text": [
            "['PYTHON', 'JAVASCRIPT', 'C++', 'JAVASCRIPT', 'C++', 'C++', 'PYTHON', 'PYTHON', 'PYTHON', 'JAVASCRIPT', 'PYTHON', 'PHP', 'PHP', 'PHP', 'C', 'JAVA', 'C++', 'C++', 'C++', 'PHP', 'JAVASCRIPT', 'C++', 'JAVASCRIPT', 'PHP', 'RUBY', 'JAVASCRIPT', 'JAVA', 'PYTHON', 'JAVASCRIPT', 'JAVASCRIPT', 'JAVA', 'RUBY', 'C', 'C', 'JAVA', 'PHP', 'PYTHON', 'C', 'JAVA', 'JAVA', 'JAVASCRIPT', 'C++', 'C++', 'RUBY', 'JAVASCRIPT', 'PYTHON', 'PYTHON', 'C', 'PHP', 'JAVASCRIPT', 'PHP', 'C', 'JAVA', 'C++', 'JAVASCRIPT', 'C++', 'RUBY', 'PHP', 'RUBY', 'PYTHON', 'RUBY', 'JAVASCRIPT', 'C++', 'RUBY', 'JAVA', 'C', 'JAVASCRIPT', 'RUBY', 'JAVASCRIPT', 'JAVA', 'RUBY', 'JAVASCRIPT', 'PHP', 'PYTHON', 'C++', 'PYTHON', 'C', 'RUBY', 'C', 'JAVASCRIPT', 'C', 'JAVASCRIPT', 'RUBY', 'JAVASCRIPT', 'C++', 'C++', 'C', 'PHP', 'RUBY', 'PHP', 'RUBY', 'JAVA', 'JAVASCRIPT', 'RUBY', 'RUBY', 'RUBY', 'JAVASCRIPT', 'PHP', 'C', 'RUBY', 'PHP', 'C', 'PYTHON', 'JAVA', 'C++', 'PYTHON', 'PHP', 'RUBY', 'PYTHON', 'JAVA', 'PYTHON', 'C++', 'C++', 'C', 'PHP', 'C', 'RUBY', 'PYTHON', 'RUBY', 'C', 'RUBY', 'PHP', 'PYTHON', 'JAVA', 'JAVA', 'PHP', 'C++', 'RUBY', 'JAVA', 'PHP', 'JAVASCRIPT', 'RUBY', 'C', 'PHP', 'PHP', 'JAVA', 'C++', 'RUBY', 'RUBY', 'C', 'C', 'PHP', 'C++', 'C', 'RUBY', 'C', 'C', 'C', 'RUBY', 'C++', 'JAVASCRIPT', 'PYTHON', 'C', 'PYTHON', 'C++', 'C++', 'C++', 'PHP', 'JAVASCRIPT', 'RUBY', 'C', 'C++', 'C++', 'C', 'PYTHON', 'C++', 'PHP', 'JAVASCRIPT', 'RUBY', 'RUBY', 'PHP', 'C', 'RUBY', 'PHP', 'PHP', 'PYTHON', 'JAVA', 'PYTHON', 'PYTHON', 'PHP', 'C', 'PYTHON', 'PHP', 'PYTHON', 'PHP', 'JAVA', 'RUBY', 'C++', 'C', 'RUBY', 'C++', 'RUBY', 'C', 'C++', 'JAVASCRIPT', 'JAVA', 'C', 'JAVA', 'PHP', 'C', 'JAVA', 'C++', 'C++', 'JAVASCRIPT', 'PYTHON', 'JAVASCRIPT', 'JAVA', 'RUBY', 'PHP', 'JAVA', 'PYTHON', 'C++', 'C++', 'C', 'C++', 'JAVA', 'JAVASCRIPT', 'PHP', 'PHP', 'C', 'PYTHON', 'JAVASCRIPT', 'C', 'JAVASCRIPT', 'C++', 'RUBY', 'C', 'JAVA', 'PYTHON', 'RUBY', 'JAVASCRIPT', 'RUBY', 'PYTHON', 'C++', 'C', 'C', 'C', 'PYTHON', 'C', 'C', 'PHP', 'C', 'RUBY', 'PHP', 'RUBY', 'RUBY', 'PHP', 'C', 'PHP', 'JAVA', 'PYTHON', 'JAVA', 'RUBY', 'C++', 'RUBY', 'C++', 'JAVASCRIPT', 'PHP', 'PYTHON', 'PHP', 'RUBY', 'PYTHON', 'PHP', 'C++', 'C++', 'JAVA', 'RUBY', 'C++', 'PYTHON', 'RUBY', 'RUBY', 'JAVASCRIPT', 'RUBY', 'JAVASCRIPT', 'C++', 'C++', 'PHP', 'RUBY', 'RUBY', 'PHP', 'RUBY', 'JAVA', 'PYTHON', 'C', 'JAVASCRIPT', 'C', 'JAVA', 'PHP', 'PHP', 'RUBY', 'PYTHON', 'PYTHON', 'JAVASCRIPT', 'JAVASCRIPT', 'PHP', 'JAVA', 'JAVA', 'JAVA', 'RUBY', 'C', 'JAVASCRIPT', 'JAVA', 'PYTHON', 'JAVA', 'C', 'PHP', 'JAVA', 'JAVASCRIPT', 'JAVA', 'C', 'RUBY', 'JAVASCRIPT', 'C++', 'JAVASCRIPT', 'JAVASCRIPT', 'JAVA', 'PYTHON', 'RUBY', 'C++', 'PHP', 'JAVA', 'JAVASCRIPT', 'PYTHON', 'JAVA', 'PHP', 'PYTHON', 'C++', 'C++', 'C++', 'PHP', 'JAVA', 'JAVASCRIPT', 'PYTHON', 'C++', 'JAVA', 'C', 'RUBY', 'PYTHON', 'C++', 'PHP', 'JAVASCRIPT', 'PYTHON', 'PHP', 'RUBY', 'C', 'PHP', 'C', 'C', 'JAVA', 'PYTHON', 'JAVA', 'JAVA', 'JAVASCRIPT', 'PYTHON', 'RUBY', 'JAVA', 'C', 'JAVASCRIPT', 'C', 'JAVASCRIPT', 'C++', 'JAVA', 'C++', 'RUBY', 'JAVASCRIPT', 'C', 'PYTHON', 'PYTHON', 'RUBY', 'C++', 'C', 'JAVA', 'RUBY', 'JAVA', 'JAVASCRIPT', 'JAVASCRIPT', 'RUBY', 'JAVA', 'JAVASCRIPT', 'C', 'RUBY', 'JAVASCRIPT', 'C', 'C', 'C', 'JAVASCRIPT', 'JAVASCRIPT', 'C', 'PYTHON', 'JAVA', 'JAVASCRIPT', 'PYTHON', 'JAVA', 'JAVASCRIPT', 'C', 'C', 'PHP', 'RUBY', 'C', 'JAVA', 'PYTHON', 'PYTHON', 'PYTHON', 'RUBY', 'JAVA', 'C++', 'RUBY', 'JAVASCRIPT', 'RUBY', 'C', 'PYTHON', 'JAVA', 'PYTHON', 'PHP', 'C++', 'C', 'PHP', 'JAVASCRIPT', 'PHP', 'JAVA', 'C', 'JAVA', 'C++', 'JAVA', 'JAVASCRIPT', 'PHP', 'PYTHON', 'JAVA', 'JAVASCRIPT', 'C++', 'JAVASCRIPT', 'JAVASCRIPT', 'RUBY', 'PYTHON', 'JAVA', 'C++', 'PYTHON', 'PYTHON', 'PYTHON', 'RUBY', 'JAVASCRIPT', 'RUBY', 'RUBY', 'JAVA', 'C', 'JAVA', 'JAVASCRIPT', 'PHP', 'PYTHON', 'PYTHON', 'PYTHON', 'JAVASCRIPT', 'RUBY', 'JAVA', 'JAVASCRIPT', 'C++', 'JAVASCRIPT', 'C', 'PHP', 'JAVA', 'PYTHON', 'RUBY', 'C', 'RUBY', 'PYTHON', 'JAVA', 'C', 'C++', 'C++', 'JAVASCRIPT', 'RUBY', 'PHP', 'RUBY', 'PYTHON', 'JAVA', 'PHP', 'PYTHON', 'RUBY', 'C', 'PYTHON', 'PHP', 'C', 'JAVASCRIPT', 'JAVA', 'JAVASCRIPT', 'JAVASCRIPT', 'PYTHON', 'RUBY', 'PHP', 'C', 'PYTHON', 'RUBY', 'PYTHON', 'JAVA', 'JAVASCRIPT', 'C++', 'PHP', 'JAVASCRIPT', 'C']\n"
          ]
        }
      ]
    },
    {
      "cell_type": "code",
      "metadata": {
        "id": "WjDsgQ5g7Kps",
        "colab": {
          "base_uri": "https://localhost:8080/"
        },
        "outputId": "80253b10-7bc8-4536-d81f-e85da1d8cf13"
      },
      "source": [
        "#count of all language in ascending order\n",
        "lst = list(d_primary)\n",
        "count_python=lst.count(\"PYTHON\")\n",
        "count_javascript = lst.count(\"JAVASCRIPT\")\n",
        "count_cplus = lst.count(\"C++\")\n",
        "count_c = lst.count(\"C\")\n",
        "count_ruby = lst.count(\"RUBY\")\n",
        "count_php = lst.count(\"PHP\")\n",
        "count_java = lst.count(\"JAVA\")\n",
        "rarest=[count_python,count_javascript,count_cplus,count_c,count_ruby,count_php,count_java]\n",
        "rarest.sort()\n",
        "print(rarest)"
      ],
      "execution_count": 18,
      "outputs": [
        {
          "output_type": "stream",
          "name": "stdout",
          "text": [
            "[64, 65, 68, 73, 75, 75, 79]\n"
          ]
        }
      ]
    },
    {
      "cell_type": "code",
      "metadata": {
        "id": "juHM7mdj7Kpu",
        "colab": {
          "base_uri": "https://localhost:8080/"
        },
        "outputId": "25030738-808b-42cc-8da2-42637fb5af25"
      },
      "source": [
        "var = int(input(\"Enter your student Id: \"))"
      ],
      "execution_count": 19,
      "outputs": [
        {
          "name": "stdout",
          "output_type": "stream",
          "text": [
            "Enter your student Id: 5\n"
          ]
        }
      ]
    },
    {
      "cell_type": "code",
      "metadata": {
        "colab": {
          "base_uri": "https://localhost:8080/"
        },
        "id": "Ia2Ug6Ygj40h",
        "outputId": "aa16a8bc-e6c4-47c6-891a-4e931389297d"
      },
      "source": [
        "stud_user=df.iloc[var-1].values\n",
        "stud_user=list(stud_user)\n",
        "print(\"Your user id is \"+str(stud_user[0]))\n",
        "print(\"Your Big 5 test score is \"+str(stud_user[1]))\n",
        "print(\"Your Aptitude test score is \"+str(stud_user[2]))\n",
        "print(\"Your Final Year Project score is \"+str(stud_user[3]))\n",
        "print(\"Your Technical score is \"+str(stud_user[4]))\n",
        "print(\"Your Primary Language is \"+str(stud_user[5]))\n",
        "print(\"Your Employability Quotient is \"+str(stud_user[6]))"
      ],
      "execution_count": 20,
      "outputs": [
        {
          "output_type": "stream",
          "name": "stdout",
          "text": [
            "Your user id is 5\n",
            "Your Big 5 test score is 10.82\n",
            "Your Aptitude test score is 37.5\n",
            "Your Final Year Project score is 1009.23\n",
            "Your Technical score is 96.62\n",
            "Your Primary Language is C++\n",
            "Your Employability Quotient is 473.9\n"
          ]
        }
      ]
    },
    {
      "cell_type": "code",
      "metadata": {
        "id": "B2qQ2XdP7Kpv",
        "colab": {
          "base_uri": "https://localhost:8080/"
        },
        "outputId": "1276e01a-163a-4e70-db5f-fb6eeaa3f0c3"
      },
      "source": [
        "var2=df.Primary_Language[var-1]\n",
        "\n",
        "var3=lst.count(stud_user[5])\n",
        "\n",
        "\n",
        "print(str(var3)+\" out of \"+str(len(k))+\" users use this language\")\n",
        "for i in range(len(rarest)):\n",
        "    if var3==rarest[i]:\n",
        "        if(i==0 or i==1):\n",
        "            print(\"Your Selected language is one of the rare language among the users.\")"
      ],
      "execution_count": 21,
      "outputs": [
        {
          "output_type": "stream",
          "name": "stdout",
          "text": [
            "64 out of 499 users use this language\n",
            "Your Selected language is one of the rare language among the users.\n"
          ]
        }
      ]
    },
    {
      "cell_type": "code",
      "metadata": {
        "id": "Ne9eW5Ob7Kpv",
        "colab": {
          "base_uri": "https://localhost:8080/",
          "height": 672
        },
        "outputId": "9b9f0e74-748f-4fa3-bf17-c0a116d1fd81"
      },
      "source": [
        "plt.rcParams['figure.figsize'] = (15, 9)\n",
        "plt.style.use('fivethirtyeight')\n",
        "\n",
        "sns.countplot(df['Primary_Language'], palette = 'Blues')\n",
        "plt.title('Comparison of Languages opted by users', fontweight = 30, fontsize = 20)\n",
        "plt.xlabel('Languages')\n",
        "plt.ylabel('Number of users')\n",
        "plt.show()"
      ],
      "execution_count": 22,
      "outputs": [
        {
          "output_type": "stream",
          "name": "stderr",
          "text": [
            "/usr/local/lib/python3.7/dist-packages/seaborn/_decorators.py:43: FutureWarning:\n",
            "\n",
            "Pass the following variable as a keyword arg: x. From version 0.12, the only valid positional argument will be `data`, and passing other arguments without an explicit keyword will result in an error or misinterpretation.\n",
            "\n"
          ]
        },
        {
          "output_type": "display_data",
          "data": {
            "image/png": "[encoded data removed]",
            "text/plain": [
              "<Figure size 1080x648 with 1 Axes>"
            ]
          },
          "metadata": {}
        }
      ]
    },
    {
      "cell_type": "code",
      "metadata": {
        "id": "V6C1e7kN7Kpw",
        "colab": {
          "base_uri": "https://localhost:8080/",
          "height": 646
        },
        "outputId": "fd9bc89f-1107-42fe-f0b7-8340bd564426"
      },
      "source": [
        "primary_list = []\n",
        "id_list=[]\n",
        "rec_id=[]\n",
        "one=0\n",
        "for i in range(len(df.Primary_Language)):\n",
        "    if var2==df.Primary_Language[i]:\n",
        "        id_list.append(df.Id[i])\n",
        "        primary_list.append(df.EQ[i])       \n",
        "        rec_id.append(one)\n",
        "np_id = np.array(id_list)\n",
        "np_primary = np.array(primary_list)\n",
        "df_target=pd.DataFrame({'Id':np_id, 'EQ':np_primary}, columns=['Id','EQ'])\n",
        "df_target\n",
        "print(\"Your Employability Quotient is \"+str(stud_user[6]))\n",
        "plt.rcParams['figure.figsize'] = (18, 6)\n",
        "plt.style.use('fivethirtyeight')\n",
        "dabl.plot(df_target, target_col = 'EQ')\n"
      ],
      "execution_count": 23,
      "outputs": [
        {
          "output_type": "stream",
          "name": "stdout",
          "text": [
            "Your Employability Quotient is 473.9\n",
            "Target looks like regression\n"
          ]
        },
        {
          "output_type": "execute_result",
          "data": {
            "text/plain": [
              "[array([[<matplotlib.axes._subplots.AxesSubplot object at 0x7f39cc401a50>]],\n",
              "       dtype=object), None]"
            ]
          },
          "metadata": {},
          "execution_count": 23
        },
        {
          "output_type": "display_data",
          "data": {
            "image/png": "[encoded data removed]",
            "text/plain": [
              "<Figure size 1296x432 with 1 Axes>"
            ]
          },
          "metadata": {}
        },
        {
          "output_type": "display_data",
          "data": {
            "image/png": "[encoded data removed]",
            "text/plain": [
              "<Figure size 288x216 with 1 Axes>"
            ]
          },
          "metadata": {}
        }
      ]
    },
    {
      "cell_type": "markdown",
      "metadata": {
        "id": "RKrDrvf47Kpw"
      },
      "source": [
        "# Student Recommendation System for Recruiter"
      ]
    },
    {
      "cell_type": "code",
      "metadata": {
        "id": "sm32TOEx7Kpw",
        "colab": {
          "base_uri": "https://localhost:8080/"
        },
        "outputId": "69500d11-dd93-4906-e0c3-23879ead6d94"
      },
      "source": [
        "selected_lang=input(\"Enter the language:\")\n",
        "selected_lang=selected_lang.upper()\n",
        "if selected_lang not in list(df['Primary_Language']) :\n",
        "    print(\"Language not found\")\n",
        "else :\n",
        "    print(\"Found\")"
      ],
      "execution_count": 24,
      "outputs": [
        {
          "output_type": "stream",
          "name": "stdout",
          "text": [
            "Enter the language:C++\n",
            "Found\n"
          ]
        }
      ]
    },
    {
      "cell_type": "code",
      "metadata": {
        "id": "o-gsAIgE7Kpx"
      },
      "source": [
        "import math as mt\n",
        "import numpy as np\n",
        "\n",
        "primary_list_2=np.sort(primary_list)\n",
        "temp = []\n",
        "for i in range(len(primary_list)):\n",
        "  a = primary_list[i]\n",
        "  for j in range(len(primary_list)):\n",
        "    if a == primary_list_2[j]:\n",
        "\n",
        "      temp.append(j)\n",
        "      primary_list_2[j]=0\n",
        "\n",
        "np_temp = np.array(temp)\n",
        "np_user = np.array(rec_id)\n",
        "np_id = np.array(id_list)\n",
        "np_primary = np.array(primary_list)\n",
        "\n",
        "df_EQ=pd.DataFrame({'recruiter_id ': np_user,'Id':np_id, 'EQR':np_temp}, columns=['recruiter_id','Id','EQR'])\n",
        "\n",
        "df_EQ['recruiter_id'] = df_EQ['recruiter_id'].fillna(one)\n"
      ],
      "execution_count": 25,
      "outputs": []
    },
    {
      "cell_type": "code",
      "metadata": {
        "id": "KuUSWv2o7Kpz",
        "colab": {
          "base_uri": "https://localhost:8080/",
          "height": 1000
        },
        "outputId": "456d8281-e2b8-4e79-e097-265d7866b200"
      },
      "source": [
        "!pip install turicreate"
      ],
      "execution_count": 26,
      "outputs": [
        {
          "output_type": "stream",
          "name": "stdout",
          "text": [
            "Collecting turicreate\n",
            "  Downloading turicreate-6.4.1-cp37-cp37m-manylinux1_x86_64.whl (92.0 MB)\n",
            "\u001b[K     |████████████████████████████████| 92.0 MB 14 kB/s \n",
            "\u001b[?25hCollecting coremltools==3.3\n",
            "  Downloading coremltools-3.3-cp37-none-manylinux1_x86_64.whl (3.5 MB)\n",
            "\u001b[K     |████████████████████████████████| 3.5 MB 48.7 MB/s \n",
            "\u001b[?25hRequirement already satisfied: decorator>=4.0.9 in /usr/local/lib/python3.7/dist-packages (from turicreate) (4.4.2)\n",
            "Collecting numba<0.51.0\n",
            "  Downloading numba-0.50.1-cp37-cp37m-manylinux2014_x86_64.whl (3.6 MB)\n",
            "\u001b[K     |████████████████████████████████| 3.6 MB 39.8 MB/s \n",
            "\u001b[?25hRequirement already satisfied: scipy>=1.1.0 in /usr/local/lib/python3.7/dist-packages (from turicreate) (1.4.1)\n",
            "Requirement already satisfied: requests>=2.9.1 in /usr/local/lib/python3.7/dist-packages (from turicreate) (2.23.0)\n",
            "Collecting resampy==0.2.1\n",
            "  Downloading resampy-0.2.1.tar.gz (322 kB)\n",
            "\u001b[K     |████████████████████████████████| 322 kB 79.3 MB/s \n",
            "\u001b[?25hRequirement already satisfied: pandas>=0.23.2 in /usr/local/lib/python3.7/dist-packages (from turicreate) (1.1.5)\n",
            "Collecting tensorflow<2.1.0,>=2.0.0\n",
            "  Downloading tensorflow-2.0.4-cp37-cp37m-manylinux2010_x86_64.whl (86.4 MB)\n",
            "\u001b[K     |████████████████████████████████| 86.4 MB 20 kB/s \n",
            "\u001b[?25hCollecting prettytable==0.7.2\n",
            "  Downloading prettytable-0.7.2.zip (28 kB)\n",
            "Requirement already satisfied: pillow>=5.2.0 in /usr/local/lib/python3.7/dist-packages (from turicreate) (7.1.2)\n",
            "Requirement already satisfied: numpy in /usr/local/lib/python3.7/dist-packages (from turicreate) (1.19.5)\n",
            "Requirement already satisfied: six>=1.10.0 in /usr/local/lib/python3.7/dist-packages (from turicreate) (1.15.0)\n",
            "Requirement already satisfied: protobuf>=3.1.0 in /usr/local/lib/python3.7/dist-packages (from coremltools==3.3->turicreate) (3.17.3)\n",
            "Requirement already satisfied: setuptools in /usr/local/lib/python3.7/dist-packages (from numba<0.51.0->turicreate) (57.4.0)\n",
            "Collecting llvmlite<0.34,>=0.33.0.dev0\n",
            "  Downloading llvmlite-0.33.0-cp37-cp37m-manylinux1_x86_64.whl (18.3 MB)\n",
            "\u001b[K     |████████████████████████████████| 18.3 MB 74 kB/s \n",
            "\u001b[?25hRequirement already satisfied: pytz>=2017.2 in /usr/local/lib/python3.7/dist-packages (from pandas>=0.23.2->turicreate) (2018.9)\n",
            "Requirement already satisfied: python-dateutil>=2.7.3 in /usr/local/lib/python3.7/dist-packages (from pandas>=0.23.2->turicreate) (2.8.2)\n",
            "Requirement already satisfied: certifi>=2017.4.17 in /usr/local/lib/python3.7/dist-packages (from requests>=2.9.1->turicreate) (2021.5.30)\n",
            "Requirement already satisfied: chardet<4,>=3.0.2 in /usr/local/lib/python3.7/dist-packages (from requests>=2.9.1->turicreate) (3.0.4)\n",
            "Requirement already satisfied: idna<3,>=2.5 in /usr/local/lib/python3.7/dist-packages (from requests>=2.9.1->turicreate) (2.10)\n",
            "Requirement already satisfied: urllib3!=1.25.0,!=1.25.1,<1.26,>=1.21.1 in /usr/local/lib/python3.7/dist-packages (from requests>=2.9.1->turicreate) (1.24.3)\n",
            "Collecting keras-applications>=1.0.8\n",
            "  Downloading Keras_Applications-1.0.8-py3-none-any.whl (50 kB)\n",
            "\u001b[K     |████████████████████████████████| 50 kB 7.9 MB/s \n",
            "\u001b[?25hRequirement already satisfied: google-pasta>=0.1.6 in /usr/local/lib/python3.7/dist-packages (from tensorflow<2.1.0,>=2.0.0->turicreate) (0.2.0)\n",
            "Collecting gast==0.2.2\n",
            "  Downloading gast-0.2.2.tar.gz (10 kB)\n",
            "Collecting tensorflow-estimator<2.1.0,>=2.0.0\n",
            "  Downloading tensorflow_estimator-2.0.1-py2.py3-none-any.whl (449 kB)\n",
            "\u001b[K     |████████████████████████████████| 449 kB 56.3 MB/s \n",
            "\u001b[?25hRequirement already satisfied: termcolor>=1.1.0 in /usr/local/lib/python3.7/dist-packages (from tensorflow<2.1.0,>=2.0.0->turicreate) (1.1.0)\n",
            "Requirement already satisfied: absl-py>=0.7.0 in /usr/local/lib/python3.7/dist-packages (from tensorflow<2.1.0,>=2.0.0->turicreate) (0.12.0)\n",
            "Collecting h5py<=2.10.0\n",
            "  Downloading h5py-2.10.0-cp37-cp37m-manylinux1_x86_64.whl (2.9 MB)\n",
            "\u001b[K     |████████████████████████████████| 2.9 MB 39.9 MB/s \n",
            "\u001b[?25hCollecting tensorboard<2.1.0,>=2.0.0\n",
            "  Downloading tensorboard-2.0.2-py3-none-any.whl (3.8 MB)\n",
            "\u001b[K     |████████████████████████████████| 3.8 MB 48.1 MB/s \n",
            "\u001b[?25hRequirement already satisfied: grpcio>=1.8.6 in /usr/local/lib/python3.7/dist-packages (from tensorflow<2.1.0,>=2.0.0->turicreate) (1.39.0)\n",
            "Requirement already satisfied: wheel>=0.26 in /usr/local/lib/python3.7/dist-packages (from tensorflow<2.1.0,>=2.0.0->turicreate) (0.37.0)\n",
            "Requirement already satisfied: keras-preprocessing>=1.0.5 in /usr/local/lib/python3.7/dist-packages (from tensorflow<2.1.0,>=2.0.0->turicreate) (1.1.2)\n",
            "Requirement already satisfied: wrapt>=1.11.1 in /usr/local/lib/python3.7/dist-packages (from tensorflow<2.1.0,>=2.0.0->turicreate) (1.12.1)\n",
            "Requirement already satisfied: opt-einsum>=2.3.2 in /usr/local/lib/python3.7/dist-packages (from tensorflow<2.1.0,>=2.0.0->turicreate) (3.3.0)\n",
            "Requirement already satisfied: astor>=0.6.0 in /usr/local/lib/python3.7/dist-packages (from tensorflow<2.1.0,>=2.0.0->turicreate) (0.8.1)\n",
            "Collecting numpy\n",
            "  Downloading numpy-1.18.5-cp37-cp37m-manylinux1_x86_64.whl (20.1 MB)\n",
            "\u001b[K     |████████████████████████████████| 20.1 MB 45.3 MB/s \n",
            "\u001b[?25hRequirement already satisfied: markdown>=2.6.8 in /usr/local/lib/python3.7/dist-packages (from tensorboard<2.1.0,>=2.0.0->tensorflow<2.1.0,>=2.0.0->turicreate) (3.3.4)\n",
            "Requirement already satisfied: google-auth<2,>=1.6.3 in /usr/local/lib/python3.7/dist-packages (from tensorboard<2.1.0,>=2.0.0->tensorflow<2.1.0,>=2.0.0->turicreate) (1.34.0)\n",
            "Requirement already satisfied: werkzeug>=0.11.15 in /usr/local/lib/python3.7/dist-packages (from tensorboard<2.1.0,>=2.0.0->tensorflow<2.1.0,>=2.0.0->turicreate) (1.0.1)\n",
            "Requirement already satisfied: google-auth-oauthlib<0.5,>=0.4.1 in /usr/local/lib/python3.7/dist-packages (from tensorboard<2.1.0,>=2.0.0->tensorflow<2.1.0,>=2.0.0->turicreate) (0.4.5)\n",
            "Requirement already satisfied: pyasn1-modules>=0.2.1 in /usr/local/lib/python3.7/dist-packages (from google-auth<2,>=1.6.3->tensorboard<2.1.0,>=2.0.0->tensorflow<2.1.0,>=2.0.0->turicreate) (0.2.8)\n",
            "Requirement already satisfied: cachetools<5.0,>=2.0.0 in /usr/local/lib/python3.7/dist-packages (from google-auth<2,>=1.6.3->tensorboard<2.1.0,>=2.0.0->tensorflow<2.1.0,>=2.0.0->turicreate) (4.2.2)\n",
            "Requirement already satisfied: rsa<5,>=3.1.4 in /usr/local/lib/python3.7/dist-packages (from google-auth<2,>=1.6.3->tensorboard<2.1.0,>=2.0.0->tensorflow<2.1.0,>=2.0.0->turicreate) (4.7.2)\n",
            "Requirement already satisfied: requests-oauthlib>=0.7.0 in /usr/local/lib/python3.7/dist-packages (from google-auth-oauthlib<0.5,>=0.4.1->tensorboard<2.1.0,>=2.0.0->tensorflow<2.1.0,>=2.0.0->turicreate) (1.3.0)\n",
            "Requirement already satisfied: importlib-metadata in /usr/local/lib/python3.7/dist-packages (from markdown>=2.6.8->tensorboard<2.1.0,>=2.0.0->tensorflow<2.1.0,>=2.0.0->turicreate) (4.6.4)\n",
            "Requirement already satisfied: pyasn1<0.5.0,>=0.4.6 in /usr/local/lib/python3.7/dist-packages (from pyasn1-modules>=0.2.1->google-auth<2,>=1.6.3->tensorboard<2.1.0,>=2.0.0->tensorflow<2.1.0,>=2.0.0->turicreate) (0.4.8)\n",
            "Requirement already satisfied: oauthlib>=3.0.0 in /usr/local/lib/python3.7/dist-packages (from requests-oauthlib>=0.7.0->google-auth-oauthlib<0.5,>=0.4.1->tensorboard<2.1.0,>=2.0.0->tensorflow<2.1.0,>=2.0.0->turicreate) (3.1.1)\n",
            "Requirement already satisfied: typing-extensions>=3.6.4 in /usr/local/lib/python3.7/dist-packages (from importlib-metadata->markdown>=2.6.8->tensorboard<2.1.0,>=2.0.0->tensorflow<2.1.0,>=2.0.0->turicreate) (3.7.4.3)\n",
            "Requirement already satisfied: zipp>=0.5 in /usr/local/lib/python3.7/dist-packages (from importlib-metadata->markdown>=2.6.8->tensorboard<2.1.0,>=2.0.0->tensorflow<2.1.0,>=2.0.0->turicreate) (3.5.0)\n",
            "Building wheels for collected packages: prettytable, resampy, gast\n",
            "  Building wheel for prettytable (setup.py) ... \u001b[?25l\u001b[?25hdone\n",
            "  Created wheel for prettytable: filename=prettytable-0.7.2-py3-none-any.whl size=13714 sha256=1323c1e68d407efecb4ec85a2ab29634caeec3f54e13e3de7909c84a4e175566\n",
            "  Stored in directory: /root/.cache/pip/wheels/b2/7f/f6/f180315b584f00445045ff1699b550fa895d09471337ce21c6\n",
            "  Building wheel for resampy (setup.py) ... \u001b[?25l\u001b[?25hdone\n",
            "  Created wheel for resampy: filename=resampy-0.2.1-py3-none-any.whl size=320860 sha256=bc4cf5a1fb8c3771043cde8925243da8bb335b873e662d215793380f256e39bb\n",
            "  Stored in directory: /root/.cache/pip/wheels/71/74/53/d5ceb7c5ee7a168c7d106041863e71ac3273f4a4677743a284\n",
            "  Building wheel for gast (setup.py) ... \u001b[?25l\u001b[?25hdone\n",
            "  Created wheel for gast: filename=gast-0.2.2-py3-none-any.whl size=7554 sha256=b141f4d5446606828f8deb25a27449d5313ea74a9e770b9818a7b252be5b1e8d\n",
            "  Stored in directory: /root/.cache/pip/wheels/21/7f/02/420f32a803f7d0967b48dd823da3f558c5166991bfd204eef3\n",
            "Successfully built prettytable resampy gast\n",
            "Installing collected packages: numpy, llvmlite, h5py, tensorflow-estimator, tensorboard, numba, keras-applications, gast, tensorflow, resampy, prettytable, coremltools, turicreate\n",
            "  Attempting uninstall: numpy\n",
            "    Found existing installation: numpy 1.19.5\n",
            "    Uninstalling numpy-1.19.5:\n",
            "      Successfully uninstalled numpy-1.19.5\n",
            "  Attempting uninstall: llvmlite\n",
            "    Found existing installation: llvmlite 0.34.0\n",
            "    Uninstalling llvmlite-0.34.0:\n",
            "      Successfully uninstalled llvmlite-0.34.0\n",
            "  Attempting uninstall: h5py\n",
            "    Found existing installation: h5py 3.1.0\n",
            "    Uninstalling h5py-3.1.0:\n",
            "      Successfully uninstalled h5py-3.1.0\n",
            "  Attempting uninstall: tensorflow-estimator\n",
            "    Found existing installation: tensorflow-estimator 2.6.0\n",
            "    Uninstalling tensorflow-estimator-2.6.0:\n",
            "      Successfully uninstalled tensorflow-estimator-2.6.0\n",
            "  Attempting uninstall: tensorboard\n",
            "    Found existing installation: tensorboard 2.6.0\n",
            "    Uninstalling tensorboard-2.6.0:\n",
            "      Successfully uninstalled tensorboard-2.6.0\n",
            "  Attempting uninstall: numba\n",
            "    Found existing installation: numba 0.51.2\n",
            "    Uninstalling numba-0.51.2:\n",
            "      Successfully uninstalled numba-0.51.2\n",
            "  Attempting uninstall: gast\n",
            "    Found existing installation: gast 0.4.0\n",
            "    Uninstalling gast-0.4.0:\n",
            "      Successfully uninstalled gast-0.4.0\n",
            "  Attempting uninstall: tensorflow\n",
            "    Found existing installation: tensorflow 2.6.0\n",
            "    Uninstalling tensorflow-2.6.0:\n",
            "      Successfully uninstalled tensorflow-2.6.0\n",
            "  Attempting uninstall: resampy\n",
            "    Found existing installation: resampy 0.2.2\n",
            "    Uninstalling resampy-0.2.2:\n",
            "      Successfully uninstalled resampy-0.2.2\n",
            "  Attempting uninstall: prettytable\n",
            "    Found existing installation: prettytable 2.1.0\n",
            "    Uninstalling prettytable-2.1.0:\n",
            "      Successfully uninstalled prettytable-2.1.0\n",
            "\u001b[31mERROR: pip's dependency resolver does not currently take into account all the packages that are installed. This behaviour is the source of the following dependency conflicts.\n",
            "tensorflow-probability 0.13.0 requires gast>=0.3.2, but you have gast 0.2.2 which is incompatible.\n",
            "librosa 0.8.1 requires resampy>=0.2.2, but you have resampy 0.2.1 which is incompatible.\n",
            "datascience 0.10.6 requires folium==0.2.1, but you have folium 0.8.3 which is incompatible.\n",
            "albumentations 0.1.12 requires imgaug<0.2.7,>=0.2.5, but you have imgaug 0.2.9 which is incompatible.\u001b[0m\n",
            "Successfully installed coremltools-3.3 gast-0.2.2 h5py-2.10.0 keras-applications-1.0.8 llvmlite-0.33.0 numba-0.50.1 numpy-1.18.5 prettytable-0.7.2 resampy-0.2.1 tensorboard-2.0.2 tensorflow-2.0.4 tensorflow-estimator-2.0.1 turicreate-6.4.1\n"
          ]
        },
        {
          "output_type": "display_data",
          "data": {
            "application/vnd.colab-display-data+json": {
              "pip_warning": {
                "packages": [
                  "numpy"
                ]
              }
            }
          },
          "metadata": {}
        }
      ]
    },
    {
      "cell_type": "code",
      "metadata": {
        "id": "UPHfhUF-7Kp0"
      },
      "source": [
        "import turicreate as tc\n"
      ],
      "execution_count": 28,
      "outputs": []
    },
    {
      "cell_type": "code",
      "metadata": {
        "id": "wDYS_DSp7Kp1"
      },
      "source": [
        "train_data = tc.SFrame(df_EQ)\n",
        "train, test = tc.recommender.util.random_split_by_user(train_data, user_id='recruiter_id', item_id='Id')"
      ],
      "execution_count": 29,
      "outputs": []
    },
    {
      "cell_type": "code",
      "metadata": {
        "id": "2NiN0AcSDy6b",
        "colab": {
          "base_uri": "https://localhost:8080/",
          "height": 85
        },
        "outputId": "b5cc07fc-c8d8-47b3-d17b-1e52821427c1"
      },
      "source": [
        "popularity_model = tc.popularity_recommender.create(train_data, user_id='recruiter_id', item_id='Id', target='EQR')"
      ],
      "execution_count": 30,
      "outputs": [
        {
          "output_type": "display_data",
          "data": {
            "text/html": [
              "<pre>Preparing data set.</pre>"
            ],
            "text/plain": [
              "Preparing data set."
            ]
          },
          "metadata": {}
        },
        {
          "output_type": "display_data",
          "data": {
            "text/html": [
              "<pre>    Data has 64 observations with 1 users and 64 items.</pre>"
            ],
            "text/plain": [
              "    Data has 64 observations with 1 users and 64 items."
            ]
          },
          "metadata": {}
        },
        {
          "output_type": "display_data",
          "data": {
            "text/html": [
              "<pre>    Data prepared in: 0.002413s</pre>"
            ],
            "text/plain": [
              "    Data prepared in: 0.002413s"
            ]
          },
          "metadata": {}
        },
        {
          "output_type": "display_data",
          "data": {
            "text/html": [
              "<pre>64 observations to process; with 64 unique items.</pre>"
            ],
            "text/plain": [
              "64 observations to process; with 64 unique items."
            ]
          },
          "metadata": {}
        }
      ]
    },
    {
      "cell_type": "code",
      "metadata": {
        "id": "jjfYkHHHEcRM"
      },
      "source": [
        "popularity_recomm = popularity_model.recommend(users=[1],k=5)\n",
        "#popularity_recomm.print_rows(num_rows=50)"
      ],
      "execution_count": 31,
      "outputs": []
    },
    {
      "cell_type": "code",
      "metadata": {
        "id": "u-2kImlprAJf"
      },
      "source": [
        "tc.data_structures.serialization.enable_sframe_serialization('/content')"
      ],
      "execution_count": 32,
      "outputs": []
    },
    {
      "cell_type": "code",
      "metadata": {
        "id": "6L-5c9pfEz60",
        "colab": {
          "base_uri": "https://localhost:8080/"
        },
        "outputId": "b3232e17-8faf-4ce5-dd9c-86b769097623"
      },
      "source": [
        "print(\"Selected Students are: \")\n",
        "print(\"------------------------\")\n",
        "b=[]\n",
        "Id_array=popularity_recomm[\"Id\"]\n",
        "for i in range(5):\n",
        "  b=df.iloc[Id_array[i]-1].values\n",
        "  print(\"Rank of the student\",i+1)\n",
        "  print(\"Id of student is\",b[0])\n",
        "  print(\"----------------------\")\n",
        "  \n"
      ],
      "execution_count": 33,
      "outputs": [
        {
          "output_type": "stream",
          "name": "stdout",
          "text": [
            "Selected Students are: \n",
            "------------------------\n",
            "Rank of the student 1\n",
            "Id of student is 22\n",
            "----------------------\n",
            "Rank of the student 2\n",
            "Id of student is 155\n",
            "----------------------\n",
            "Rank of the student 3\n",
            "Id of student is 3\n",
            "----------------------\n",
            "Rank of the student 4\n",
            "Id of student is 43\n",
            "----------------------\n",
            "Rank of the student 5\n",
            "Id of student is 423\n",
            "----------------------\n"
          ]
        }
      ]
    }
  ]
}